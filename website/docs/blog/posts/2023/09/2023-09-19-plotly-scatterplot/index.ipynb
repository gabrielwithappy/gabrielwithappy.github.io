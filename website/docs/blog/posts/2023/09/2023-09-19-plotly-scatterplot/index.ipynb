{
  "cells": [
    {
      "cell_type": "raw",
      "metadata": {},
      "source": [
        "---\n",
        "title: Plotly Scatter Plot만들기\n",
        "subtitle: Plotly Scatter Plot만들기\n",
        "description:\n",
        "  Plotly Scatter Plot의 사용방법을 정리합니다.\n",
        "categories:\n",
        "  - Data Visualization\n",
        "author: gabriel yang\n",
        "date: \"09/19/2023\"\n",
        "image: \"https://picsum.photos/id/192/200/150\"\n",
        "# image-alt: \"deep learning glossary\"\n",
        "page-layout: article\n",
        "# draft: true\n",
        "---"
      ],
      "id": "cc0bb774"
    },
    {
      "cell_type": "markdown",
      "metadata": {},
      "source": [
        "# Plotly Scatter Plot 만들기\n",
        "\n",
        "Plotly Scatter Plot을 연습하기 위해서 Plotly Express의 `medals_long()`데이터를 사용합니다. 국가별로 메달의 종류와 갯수를 저장한 데이터프레임입니다."
      ],
      "id": "dfe8c5b1"
    },
    {
      "cell_type": "code",
      "metadata": {},
      "source": [
        "import plotly.express as px\n",
        "df = px.data.medals_long()\n",
        "df"
      ],
      "id": "5e6a4a6a",
      "execution_count": null,
      "outputs": []
    },
    {
      "cell_type": "markdown",
      "metadata": {},
      "source": [
        "x축에는 국가정보 y축에는 메달의 수가 표시됩니다. `color`로 데이터를 그룹화하여 표시합니다. scatter plot의 심볼의 모양은 `symbol`정보로 설정합니다.\n"
      ],
      "id": "768d4ea4"
    },
    {
      "cell_type": "code",
      "metadata": {},
      "source": [
        "fig = px.scatter(df, x=\"nation\", y=\"count\", color=\"medal\", symbol=\"medal\")\n",
        "fig.update_traces(marker_size=10)\n",
        "fig.show()"
      ],
      "id": "cda49022",
      "execution_count": null,
      "outputs": []
    },
    {
      "cell_type": "markdown",
      "metadata": {},
      "source": [
        "## Scatter 데이터 그룹화하기\n",
        "\n",
        "Scatter Plot의 데이터를 순서대로 표시하기 위해서 `scattermode`를  `group`으로 사용할 수 있습니다.\n"
      ],
      "id": "4875e477"
    },
    {
      "cell_type": "code",
      "metadata": {},
      "source": [
        "px.scatter(df, y=\"count\", x=\"nation\", color=\"medal\"),\n",
        "fig.update_traces(marker_size=10)\n",
        "fig.update_layout(scattermode=\"group\")\n",
        "fig.show()"
      ],
      "id": "8690cb4f",
      "execution_count": null,
      "outputs": []
    },
    {
      "cell_type": "markdown",
      "metadata": {},
      "source": [
        "Group 내부의 데이터 사이 간격은 `scattergap`으로 변경합니다."
      ],
      "id": "af61160c"
    },
    {
      "cell_type": "code",
      "metadata": {},
      "source": [
        "fig = px.scatter(df, y=\"count\", x=\"nation\", color=\"medal\")\n",
        "fig.update_traces(marker_size=10)\n",
        "fig.update_layout(scattermode=\"group\", scattergap=0.8)\n",
        "fig.show()"
      ],
      "id": "3faecd76",
      "execution_count": null,
      "outputs": []
    },
    {
      "cell_type": "markdown",
      "metadata": {},
      "source": [
        "## Subplot에 그래프 표시하기\n",
        "\n",
        "`facet` 옵션을 사용하면 각 데이터 그룹을 하나의 subplot에 표시할 수 있습니다. 연습을 위해서 `tips` 데이터를 불러옵니다.\n"
      ],
      "id": "996ee38e"
    },
    {
      "cell_type": "code",
      "metadata": {},
      "source": [
        "import plotly.express as px\n",
        "df = px.data.tips()\n",
        "df.head(3)"
      ],
      "id": "491803ff",
      "execution_count": null,
      "outputs": []
    },
    {
      "cell_type": "markdown",
      "metadata": {},
      "source": [
        "`tips`데이터는 고객 정보와 고객이 지불한 금액과 팁을 표시한 데이터입니다.\n"
      ],
      "id": "4659f672"
    },
    {
      "cell_type": "code",
      "metadata": {},
      "source": [
        "import plotly.express as px\n",
        "df = px.data.tips()\n",
        "fig = px.scatter(df, x=\"total_bill\", y=\"tip\", color=\"smoker\", facet_col=\"sex\", facet_row=\"time\")\n",
        "fig.show()"
      ],
      "id": "38ab6a56",
      "execution_count": null,
      "outputs": []
    },
    {
      "cell_type": "markdown",
      "metadata": {},
      "source": [
        "`facet_col`과 `facet_row`정보를 설정합니다. `sex`는 `Male`과 `Female`로 구성되어 있기 때문에 2개의 행이 추가됐습니다. `facet_row`는 `time`정보로 `Dinner`와 `Lunch`를 표시하는 subplot이 생성됐습니다."
      ],
      "id": "039ac48a"
    }
  ],
  "metadata": {
    "kernelspec": {
      "name": "python3",
      "language": "python",
      "display_name": "Python 3 (ipykernel)"
    }
  },
  "nbformat": 4,
  "nbformat_minor": 5
}