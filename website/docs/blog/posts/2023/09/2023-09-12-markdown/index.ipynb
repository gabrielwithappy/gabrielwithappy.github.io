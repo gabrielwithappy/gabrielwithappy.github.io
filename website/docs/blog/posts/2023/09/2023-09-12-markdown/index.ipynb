{
  "cells": [
    {
      "cell_type": "raw",
      "metadata": {},
      "source": [
        "---\n",
        "title: Markdown문법 정리하기\n",
        "subtitle: Markdown문법 정리하기\n",
        "description:\n",
        "  Markdown문법을 정리합니다.\n",
        "categories:\n",
        "  - Pandas\n",
        "author: 양성모\n",
        "date: \"09/12/2023\"\n",
        "image: \"https://picsum.photos/id/12/200/150\"\n",
        "# image-alt: \"deep learning glossary\"\n",
        "page-layout: article\n",
        "---"
      ],
      "id": "8e803cb2"
    },
    {
      "cell_type": "markdown",
      "metadata": {},
      "source": [
        "# Markdown\n",
        "\n",
        "마크다운은 텍스트를 이용해 문서를 작성하는 도구입니다. 일반 텍스트를 이용해서 Table, 링크 등 다양한 문서형태를 작성할 수 있습니다. Quart는 Pandoc을 기반으로 하고 있으며 Markdown으로 문서를 작성합니다. 자주 사용하는 Markdown 문법을 정리합니다.\n",
        "\n",
        "## Text Formatting\n",
        "\n",
        "텍스트의 형태를 변경하는 다양한 문법을 확인합니다.\n",
        "\n",
        "+-------------------------------------+--------------------------------------+\n",
        "| Markdown 문법                       | 출력                                 |\n",
        "+=====================================+======================================+\n",
        "| ``` markdown                        | *이텔릭* **강조** ***강조 이텔릭***  |\n",
        "| *이텔릭* **강조** ***강조 이텔릭*** |                                      |\n",
        "| ```                                 |                                      |\n",
        "+-------------------------------------+--------------------------------------+\n",
        "|``` markdown                         |                                      |\n",
        "| 위첨자^2^ / 아래첨자~2~              | 위첨자^2^ / 아래첨자~2~                |\n",
        "|```                                  |                                      |\n",
        "+-------------------------------------+--------------------------------------+\n",
        "|``` markdown                         |                                      |\n",
        "| ~~취소선~~                           | ~~취소선~~                |\n",
        "|```                                  |                                      |\n",
        "+-------------------------------------+--------------------------------------+\n",
        "\n",
        "\n",
        "병합은 서로다른 데이터프레임 객체에 동일하게 존재하는 값을 통해 양쪽 데이터를 연관 지어 하나의 데이터프레임으로 모델링할 수 있는 유용한 방법입니다. 연습을 위해서 데이터를 준비합니다.\n",
        "\n",
        "`Yahoo Finance`에서는 미국뿐 아니라 한국 주식에 대한 정보를 제공합니다. `KOSPI`주식 정보를 csv형태로 저장해서 데이터프레임 머지 연습에 사용할께요. [Yahoo Finance](https://finance.yahoo.com/quote/%5EKS11?p=%5EKS11&.tsrc=fin-srch)로 이동해서 `historica l data` 탭을 선택합니다.\n",
        "\n",
        "![](images/paste-1.png)\n",
        "\n",
        "`Historical Data` 를 선택하면 위와 같이 `KOSPI` 에 대한 시계열 데이터를 얻을 수 있습니다. `download`를 눌러 다운로드하여 저장합니다. 혹은 \\[[KS11.csv](./%5EKS11.csv)\\]에서 다운로드 하세요.\n",
        "\n",
        "## 데이터 로드하기\n",
        "\n",
        "csv파일을 불러와서 데이터프레임 형태를 확인합니다. 시계열데이터의 경우 날짜정보를 데이터프레임의 `index`로 사용하면 편리합니다. `data`컬럼을 index로 설정합니다.\n"
      ],
      "id": "d332d888"
    },
    {
      "cell_type": "code",
      "metadata": {},
      "source": [
        "import pandas as pd\n",
        "kospi = pd.read_csv(\"./^KS11.csv\", index_col ='Date')\n",
        "kospi.head()"
      ],
      "id": "4600a74b",
      "execution_count": null,
      "outputs": []
    },
    {
      "cell_type": "markdown",
      "metadata": {},
      "source": [
        "날짜정보가 index로 설정된 데이터프레임을 생성했습니다. 이제 연결을 위한 새로운 데이터프레임을 생성합니다. 데이트 프레임을 연결할 정보를 `Ticker`라는 컬럼으로 설정하고 기존 데이터프레임의 `Volume`컬럼을 추가합니다.\n"
      ],
      "id": "3cab4f5f"
    },
    {
      "cell_type": "code",
      "metadata": {},
      "source": [
        "kospi_volume = pd.DataFrame ({'Ticker': 'kospi', 'Volume' : kospi['Volume']})\n",
        "kospi_volume.head()"
      ],
      "id": "a494f058",
      "execution_count": null,
      "outputs": []
    },
    {
      "cell_type": "markdown",
      "metadata": {},
      "source": [
        "2개의 데이터프레임이 함께 갖는 컬럼인 'Ticker'를 통해서 병합을 진행하고 이를 통해서 `Volume`정보를 추가하려고 합니다. 올바르게 동작하는 지 확인하기 위해서 기존 데이터프레임의 `Volume` 컬럼을 삭제합니다.\n"
      ],
      "id": "84a1c827"
    },
    {
      "cell_type": "code",
      "metadata": {},
      "source": [
        "kospi['Ticker'] = 'kospi'\n",
        "kospi.pop('Volume')\n",
        "kospi.head()"
      ],
      "id": "bbe17ac3",
      "execution_count": null,
      "outputs": []
    },
    {
      "cell_type": "markdown",
      "metadata": {},
      "source": [
        "`Volume`컬럼이 삭제되었으니 병합을 진행합니다. `pd.merge()`함수를 사용하고 공통 컬럼인 `Ticker`컬럼을 전달합니다.\n"
      ],
      "id": "5725dcf8"
    },
    {
      "cell_type": "code",
      "metadata": {},
      "source": [
        "merged_df = pd.merge(kospi, kospi_volume, on='Ticker')\n",
        "merged_df.head()"
      ],
      "id": "b996eca7",
      "execution_count": null,
      "outputs": []
    },
    {
      "cell_type": "markdown",
      "metadata": {},
      "source": [
        "이제 새로운 `merged_df` 데이터프레임은 2개의 데이터프레임을 연결하여 `Volume`정보를 추가 하였습니다."
      ],
      "id": "5c47033f"
    }
  ],
  "metadata": {
    "kernelspec": {
      "name": "python3",
      "language": "python",
      "display_name": "Python 3 (ipykernel)"
    }
  },
  "nbformat": 4,
  "nbformat_minor": 5
}