{
  "cells": [
    {
      "cell_type": "raw",
      "metadata": {},
      "source": [
        "---\n",
        "title: Plotly line, shape 그리기\n",
        "subtitle: Plotly line, shape 그리기\n",
        "description:\n",
        "   Plotly line, shape 그리기는 방법에 대해서 정리합니다.\n",
        "categories:\n",
        "  - Data Visualization\n",
        "author: gabriel yang\n",
        "date: \"10/08/2023\"\n",
        "image: \"https://picsum.photos/id/80/200/150\"\n",
        "# image-alt: \"deep learning glossary\"\n",
        "page-layout: article\n",
        "# draft: true\n",
        "---"
      ],
      "id": "899d9365"
    },
    {
      "cell_type": "markdown",
      "metadata": {},
      "source": [
        "# Plotly line, shape 그리기\n",
        "\n",
        "Ploty로 line과 shape를 그리는 방법을 정리합니다.\n"
      ],
      "id": "b64ab4ce"
    },
    {
      "cell_type": "code",
      "metadata": {},
      "source": [
        "import plotly.graph_objects as go\n",
        "\n",
        "fig = go.Figure()\n",
        "\n",
        "# Create scatter trace of text labels\n",
        "fig.add_trace(go.Scatter(\n",
        "    x=[6, 6, 6],\n",
        "    y=[1, 3, 5],\n",
        "    text=[\"Line\",\n",
        "          \"Dashed Line\",\n",
        "          \"Dotted Line\"],\n",
        "    mode=\"text\",\n",
        "))\n",
        "\n",
        "# Add shapes\n",
        "fig.add_shape(type=\"line\",\n",
        "    x0=1, y0=1, x1=5, y1=1,\n",
        "    line=dict(color=\"RoyalBlue\",width=3)\n",
        ")\n",
        "\n",
        "fig.add_shape(type=\"line\",\n",
        "    x0=1, y0=3, x1=5, y1=3,\n",
        "    line=dict(\n",
        "        color=\"LightSeaGreen\",\n",
        "        width=4,\n",
        "        dash=\"dashdot\",\n",
        "    )\n",
        ")\n",
        "\n",
        "fig.add_shape(type=\"line\",\n",
        "    x0=1, y0=5, x1=5, y1=5,\n",
        "    line=dict(\n",
        "        color=\"MediumPurple\",\n",
        "        width=4,\n",
        "        dash=\"dot\",\n",
        "        a\n",
        "    )\n",
        ")\n",
        "\n",
        "# Set axes ranges\n",
        "fig.update_xaxes(range=[0, 8])\n",
        "fig.update_yaxes(range=[0, 6])\n",
        "\n",
        "fig.show()"
      ],
      "id": "14ab9468",
      "execution_count": null,
      "outputs": []
    },
    {
      "cell_type": "markdown",
      "metadata": {},
      "source": [
        "line은 `add_shape`함수를 사용합니다. 라인의 스타일은 `line`변수에 딕셔너리 형식으로 정보를 전달합니다. 딕셔너리의 `dash`는 라인의 형태를 결정하고 `dashdot`, `dot`, `line`으로 설정할 수 있습니다.\n",
        "\n",
        "## 투명도 조절하기\n"
      ],
      "id": "7f9434fa"
    },
    {
      "cell_type": "code",
      "metadata": {},
      "source": [
        "import plotly.graph_objects as go\n",
        "\n",
        "fig = go.Figure()\n",
        "\n",
        "fig.add_shape(type=\"line\",\n",
        "    x0=1, y0=5, x1=5, y1=5,\n",
        "    line=dict(\n",
        "        color=\"MediumPurple\",\n",
        "        width=4,\n",
        "        dash=\"dot\",\n",
        "        opacity=0.5,\n",
        "    )\n",
        ")\n",
        "\n",
        "# Set axes ranges\n",
        "fig.update_xaxes(range=[0, 8])\n",
        "fig.update_yaxes(range=[0, 6])\n",
        "\n",
        "fig.show()"
      ],
      "id": "5625e8e2",
      "execution_count": null,
      "outputs": []
    }
  ],
  "metadata": {
    "kernelspec": {
      "name": "python3",
      "language": "python",
      "display_name": "Python 3 (ipykernel)"
    }
  },
  "nbformat": 4,
  "nbformat_minor": 5
}